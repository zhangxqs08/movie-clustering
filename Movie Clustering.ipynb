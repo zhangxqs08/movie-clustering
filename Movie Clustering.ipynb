{
 "cells": [
  {
   "cell_type": "markdown",
   "metadata": {},
   "source": [
    "# Movie Clustering and Topic Modeling"
   ]
  },
  {
   "cell_type": "markdown",
   "metadata": {},
   "source": [
    "In this project, I use unsupervised learning models (k-means and lda) to cluster Top 250 movies crawled from IMDB into different groups, visualize the results and identify their latent topics/structures."
   ]
  },
  {
   "cell_type": "markdown",
   "metadata": {},
   "source": [
    "## Contents"
   ]
  },
  {
   "cell_type": "markdown",
   "metadata": {},
   "source": [
    "<ul>\n",
    "<li>[Part 1: Load Data](#Part-1:-Load-Data)\n",
    "<li>[Part 2: Tokenizing, Stemming and TF-IDF](#Part-2:-Tokenizing,-Stemming-and-TF-IDF)\n",
    "<li>[Part 3: K-means clustering](#Part-3:-K-means-clustering)\n",
    "<li>[Part 4: Topic Modeling - Latent Dirichlet Allocation](#Part-4:-Topic-Modeling---Latent-Dirichlet-Allocation)\n",
    "</ul>"
   ]
  },
  {
   "cell_type": "markdown",
   "metadata": {},
   "source": [
    "## Part 1: Load Data"
   ]
  },
  {
   "cell_type": "code",
   "execution_count": 108,
   "metadata": {},
   "outputs": [],
   "source": [
    "import warnings\n",
    "warnings.filterwarnings('ignore')\n",
    "import numpy as np\n",
    "import pandas as pd\n",
    "import nltk\n",
    "import re\n",
    "import os\n",
    "import matplotlib.pyplot as plt\n",
    "%matplotlib inline"
   ]
  },
  {
   "cell_type": "code",
   "execution_count": 109,
   "metadata": {},
   "outputs": [],
   "source": [
    "# import crawled data: movie titles and synopses\n",
    "titles = open('data/titles.txt').read().split('\\n')\n",
    "titles = titles[:250]\n",
    "synopses = open('data/synopses.txt').read().split('BREAKS HERE\\n')\n",
    "synopses = synopses[:250]\n",
    "\n",
    "#Since these synopses have already been ordered in popularity order, \n",
    "#we just need to generate a list of ordered numbers for future usage.\n",
    "ranks = range(len(titles))"
   ]
  },
  {
   "cell_type": "markdown",
   "metadata": {},
   "source": [
    "# Part 2: Tokenizing, Stemming and TF-IDF"
   ]
  },
  {
   "cell_type": "markdown",
   "metadata": {},
   "source": [
    "Load stopwords and stemmer function from NLTK library. Then do TF-IDF to generate features."
   ]
  },
  {
   "cell_type": "code",
   "execution_count": 110,
   "metadata": {},
   "outputs": [
    {
     "name": "stdout",
     "output_type": "stream",
     "text": [
      "We use 153 stop-words from nltk library.\n"
     ]
    }
   ],
   "source": [
    "from nltk.stem.snowball import SnowballStemmer\n",
    "\n",
    "# Use nltk's English stopwords.\n",
    "stopwords = nltk.corpus.stopwords.words('english')\n",
    "print \"We use \" + str(len(stopwords)) + \" stop-words from nltk library.\"\n",
    "\n",
    "stemmer = SnowballStemmer(\"english\")\n",
    "\n",
    "# define tokenization and stemming function\n",
    "def tokenization_and_stemming(text):\n",
    "    \"\"\"\n",
    "    For a text file, we need to do tokenization and then do stemming.\n",
    "    \"\"\"\n",
    "    # sent_tokenize extracts the sentence and word_tokenize extracts the words\n",
    "    tokens = [word.lower() for sent in nltk.sent_tokenize(text) for \n",
    "              word in nltk.word_tokenize(sent) if word not in stopwords]\n",
    " \n",
    "    filtered_tokens = []\n",
    "    # filter out any tokens not containing letters\n",
    "    for token in tokens:\n",
    "        if re.search('[a-zA-Z]', token):\n",
    "            filtered_tokens.append(token)\n",
    "    stems = [stemmer.stem(t) for t in filtered_tokens]\n",
    "    return stems\n",
    "\n",
    "def tokenization(text):\n",
    "    \"\"\"\n",
    "    Just do tokenization without stemming\n",
    "    \"\"\"\n",
    "    tokens = [word.lower() for sent in nltk.sent_tokenize(text) for \n",
    "              word in nltk.word_tokenize(sent) if word not in stopwords]\n",
    "    filtered_tokens = []\n",
    "    for token in tokens:\n",
    "        if re.search('[a-zA-Z]', token):\n",
    "            filtered_tokens.append(token)\n",
    "    return filtered_tokens"
   ]
  },
  {
   "cell_type": "code",
   "execution_count": 111,
   "metadata": {},
   "outputs": [
    {
     "data": {
      "text/plain": [
       "[u'she', u'look', u'father', \"'s\", u'face', 'he', u'look', u'good']"
      ]
     },
     "execution_count": 111,
     "output_type": "execute_result",
     "metadata": {}
    }
   ],
   "source": [
    "tokenization_and_stemming(\"She looked at her father's face. He looked good.\")"
   ]
  },
  {
   "cell_type": "code",
   "execution_count": 112,
   "metadata": {},
   "outputs": [
    {
     "name": "stdout",
     "output_type": "stream",
     "text": [
      "295577\n",
      "walk\n"
     ]
    }
   ],
   "source": [
    "docs_stemmed = []\n",
    "docs_tokenized = []\n",
    "for i in synopses:\n",
    "    tokenized_and_stemmed_results = tokenization_and_stemming(i.decode('utf-8'))\n",
    "    docs_stemmed.extend(tokenized_and_stemmed_results)\n",
    "    \n",
    "    tokenized_results = tokenization(i.decode('utf-8'))\n",
    "    docs_tokenized.extend(tokenized_results)\n",
    "    \n",
    "vocab_frame_dict = {docs_stemmed[x]:docs_tokenized[x] for x in xrange(len(docs_stemmed))}\n",
    "print len(docs_stemmed)\n",
    "print vocab_frame_dict['walk']"
   ]
  },
  {
   "cell_type": "code",
   "execution_count": 113,
   "metadata": {},
   "outputs": [
    {
     "name": "stdout",
     "output_type": "stream",
     "text": [
      "In total, there are 250 synoposes and 1115 terms.\n"
     ]
    }
   ],
   "source": [
    "from sklearn.feature_extraction.text import TfidfVectorizer\n",
    "\n",
    "#define vectorizer parameters\n",
    "tfidf_model = TfidfVectorizer(max_df=0.8, max_features=200000,\n",
    "                                 min_df=0.1, stop_words='english',\n",
    "                                 use_idf=True, tokenizer=tokenization_and_stemming, ngram_range=(1,1))\n",
    "\n",
    "tfidf_matrix = tfidf_model.fit_transform(synopses) #fit the vectorizer to synopses\n",
    "\n",
    "print \"In total, there are \" + str(tfidf_matrix.shape[0]) + \\\n",
    "      \" synoposes and \" + str(tfidf_matrix.shape[1]) + \" terms.\""
   ]
  },
  {
   "cell_type": "code",
   "execution_count": 114,
   "metadata": {},
   "outputs": [
    {
     "data": {
      "text/plain": [
       "{'analyzer': u'word',\n",
       " 'binary': False,\n",
       " 'decode_error': u'strict',\n",
       " 'dtype': numpy.int64,\n",
       " 'encoding': u'utf-8',\n",
       " 'input': u'content',\n",
       " 'lowercase': True,\n",
       " 'max_df': 0.8,\n",
       " 'max_features': 200000,\n",
       " 'min_df': 0.1,\n",
       " 'ngram_range': (1, 1),\n",
       " 'norm': u'l2',\n",
       " 'preprocessor': None,\n",
       " 'smooth_idf': True,\n",
       " 'stop_words': 'english',\n",
       " 'strip_accents': None,\n",
       " 'sublinear_tf': False,\n",
       " 'token_pattern': u'(?u)\\\\b\\\\w\\\\w+\\\\b',\n",
       " 'tokenizer': <function __main__.tokenization_and_stemming>,\n",
       " 'use_idf': True,\n",
       " 'vocabulary': None}"
      ]
     },
     "execution_count": 114,
     "output_type": "execute_result",
     "metadata": {}
    }
   ],
   "source": [
    "tf_selected_words = tfidf_model.get_feature_names()\n",
    "tfidf_model.get_params()"
   ]
  },
  {
   "cell_type": "markdown",
   "metadata": {},
   "source": [
    "# Part 3: K-means Clustering"
   ]
  },
  {
   "cell_type": "code",
   "execution_count": 115,
   "metadata": {},
   "outputs": [],
   "source": [
    "from sklearn.cluster import KMeans\n",
    "\n",
    "num_clusters = 6\n",
    "km = KMeans(n_clusters=num_clusters)\n",
    "km.fit(tfidf_matrix)\n",
    "clusters = km.labels_.tolist()"
   ]
  },
  {
   "cell_type": "markdown",
   "metadata": {},
   "source": [
    "## 3.1. Analyze K-means Result"
   ]
  },
  {
   "cell_type": "code",
   "execution_count": 116,
   "metadata": {},
   "outputs": [
    {
     "data": {
      "text/html": [
       "<div>\n",
       "<style>\n",
       "    .dataframe thead tr:only-child th {\n",
       "        text-align: right;\n",
       "    }\n",
       "\n",
       "    .dataframe thead th {\n",
       "        text-align: left;\n",
       "    }\n",
       "\n",
       "    .dataframe tbody tr th {\n",
       "        vertical-align: top;\n",
       "    }\n",
       "</style>\n",
       "<table border=\"1\" class=\"dataframe\">\n",
       "  <thead>\n",
       "    <tr style=\"text-align: right;\">\n",
       "      <th></th>\n",
       "      <th>rank</th>\n",
       "      <th>title</th>\n",
       "      <th>cluster</th>\n",
       "    </tr>\n",
       "  </thead>\n",
       "  <tbody>\n",
       "    <tr>\n",
       "      <th>2</th>\n",
       "      <td>0</td>\n",
       "      <td>The Shawshank Redemption</td>\n",
       "      <td>2</td>\n",
       "    </tr>\n",
       "    <tr>\n",
       "      <th>3</th>\n",
       "      <td>1</td>\n",
       "      <td>The Godfather</td>\n",
       "      <td>3</td>\n",
       "    </tr>\n",
       "    <tr>\n",
       "      <th>3</th>\n",
       "      <td>2</td>\n",
       "      <td>The Godfather: Part II</td>\n",
       "      <td>3</td>\n",
       "    </tr>\n",
       "    <tr>\n",
       "      <th>2</th>\n",
       "      <td>3</td>\n",
       "      <td>The Dark Knight</td>\n",
       "      <td>2</td>\n",
       "    </tr>\n",
       "    <tr>\n",
       "      <th>3</th>\n",
       "      <td>4</td>\n",
       "      <td>12 Angry Men</td>\n",
       "      <td>3</td>\n",
       "    </tr>\n",
       "    <tr>\n",
       "      <th>3</th>\n",
       "      <td>5</td>\n",
       "      <td>Schindler's List</td>\n",
       "      <td>3</td>\n",
       "    </tr>\n",
       "    <tr>\n",
       "      <th>2</th>\n",
       "      <td>6</td>\n",
       "      <td>Pulp Fiction</td>\n",
       "      <td>2</td>\n",
       "    </tr>\n",
       "    <tr>\n",
       "      <th>3</th>\n",
       "      <td>7</td>\n",
       "      <td>The Lord of the Rings: The Return of the King</td>\n",
       "      <td>3</td>\n",
       "    </tr>\n",
       "    <tr>\n",
       "      <th>3</th>\n",
       "      <td>8</td>\n",
       "      <td>The Good, the Bad and the Ugly</td>\n",
       "      <td>3</td>\n",
       "    </tr>\n",
       "    <tr>\n",
       "      <th>4</th>\n",
       "      <td>9</td>\n",
       "      <td>Fight Club</td>\n",
       "      <td>4</td>\n",
       "    </tr>\n",
       "  </tbody>\n",
       "</table>\n",
       "</div>"
      ]
     },
     "output_type": "execute_result",
     "metadata": {}
    }
   ],
   "source": [
    "# create DataFrame films from all of the input files.\n",
    "films = { 'title': titles, 'rank': ranks, 'synopsis': synopses, 'cluster': clusters}\n",
    "frame = pd.DataFrame(films, index = [clusters] , columns = ['rank', 'title', 'cluster'])\n",
    "frame.head(10)"
   ]
  },
  {
   "cell_type": "code",
   "execution_count": 117,
   "metadata": {},
   "outputs": [
    {
     "name": "stdout",
     "output_type": "stream",
     "text": [
      "Number of films included in each cluster:\n"
     ]
    },
    {
     "data": {
      "text/html": [
       "<div>\n",
       "<style>\n",
       "    .dataframe thead tr:only-child th {\n",
       "        text-align: right;\n",
       "    }\n",
       "\n",
       "    .dataframe thead th {\n",
       "        text-align: left;\n",
       "    }\n",
       "\n",
       "    .dataframe tbody tr th {\n",
       "        vertical-align: top;\n",
       "    }\n",
       "</style>\n",
       "<table border=\"1\" class=\"dataframe\">\n",
       "  <thead>\n",
       "    <tr style=\"text-align: right;\">\n",
       "      <th></th>\n",
       "      <th>cluster</th>\n",
       "    </tr>\n",
       "  </thead>\n",
       "  <tbody>\n",
       "    <tr>\n",
       "      <th>4</th>\n",
       "      <td>75</td>\n",
       "    </tr>\n",
       "    <tr>\n",
       "      <th>3</th>\n",
       "      <td>60</td>\n",
       "    </tr>\n",
       "    <tr>\n",
       "      <th>2</th>\n",
       "      <td>52</td>\n",
       "    </tr>\n",
       "    <tr>\n",
       "      <th>5</th>\n",
       "      <td>38</td>\n",
       "    </tr>\n",
       "    <tr>\n",
       "      <th>0</th>\n",
       "      <td>14</td>\n",
       "    </tr>\n",
       "    <tr>\n",
       "      <th>1</th>\n",
       "      <td>11</td>\n",
       "    </tr>\n",
       "  </tbody>\n",
       "</table>\n",
       "</div>"
      ]
     },
     "output_type": "execute_result",
     "metadata": {}
    }
   ],
   "source": [
    "print \"Number of films included in each cluster:\"\n",
    "frame['cluster'].value_counts().to_frame()"
   ]
  },
  {
   "cell_type": "code",
   "execution_count": 118,
   "metadata": {},
   "outputs": [
    {
     "name": "stdout",
     "output_type": "stream",
     "text": [
      "Average rank (1 to 250) per cluster:\n"
     ]
    },
    {
     "data": {
      "text/html": [
       "<div>\n",
       "<style>\n",
       "    .dataframe thead tr:only-child th {\n",
       "        text-align: right;\n",
       "    }\n",
       "\n",
       "    .dataframe thead th {\n",
       "        text-align: left;\n",
       "    }\n",
       "\n",
       "    .dataframe tbody tr th {\n",
       "        vertical-align: top;\n",
       "    }\n",
       "</style>\n",
       "<table border=\"1\" class=\"dataframe\">\n",
       "  <thead>\n",
       "    <tr style=\"text-align: right;\">\n",
       "      <th></th>\n",
       "      <th>rank</th>\n",
       "    </tr>\n",
       "    <tr>\n",
       "      <th>cluster</th>\n",
       "      <th></th>\n",
       "    </tr>\n",
       "  </thead>\n",
       "  <tbody>\n",
       "    <tr>\n",
       "      <th>0</th>\n",
       "      <td>94.214286</td>\n",
       "    </tr>\n",
       "    <tr>\n",
       "      <th>1</th>\n",
       "      <td>161.363636</td>\n",
       "    </tr>\n",
       "    <tr>\n",
       "      <th>2</th>\n",
       "      <td>119.519231</td>\n",
       "    </tr>\n",
       "    <tr>\n",
       "      <th>3</th>\n",
       "      <td>108.833333</td>\n",
       "    </tr>\n",
       "    <tr>\n",
       "      <th>4</th>\n",
       "      <td>131.920000</td>\n",
       "    </tr>\n",
       "    <tr>\n",
       "      <th>5</th>\n",
       "      <td>141.894737</td>\n",
       "    </tr>\n",
       "  </tbody>\n",
       "</table>\n",
       "</div>"
      ]
     },
     "output_type": "execute_result",
     "metadata": {}
    }
   ],
   "source": [
    "grouped = frame['rank'].groupby(frame['cluster'])\n",
    "print \"Average rank (1 to 250) per cluster:\"\n",
    "grouped.mean().to_frame()"
   ]
  },
  {
   "cell_type": "code",
   "execution_count": 119,
   "metadata": {},
   "outputs": [
    {
     "name": "stdout",
     "output_type": "stream",
     "text": [
      "<Document clustering result by K-means>\n",
      "Cluster 0 words: frank, ship, space, earth, star, destroy,\n",
      "Cluster 0 titles (14 movies): \n",
      "Star Wars: Episode V - The Empire Strikes Back, Star Wars: Episode IV - A New Hope, Once Upon a Time in the West, Interstellar, Alien, WALL·E, Aliens, Star Wars: Episode VI - Return of the Jedi, 2001: A Space Odyssey, Scarface, Metropolis, Catch Me If You Can, Donnie Darko, Star Wars: The Force Awakens\n",
      "\n",
      "Cluster 1 words: page, button, guid, titl, learn, like,\n",
      "Cluster 1 titles (11 movies): \n",
      "Modern Times, The Kid, Babam ve Oglum, Ikiru, The Bandit, Come and See, Relatos salvajes, The 400 Blows, Nausicaä of the Valley of the Wind, La Haine, 8½\n",
      "\n",
      "Cluster 2 words: polic, kill, tell, joe, harri, gang,\n",
      "Cluster 2 titles (52 movies): \n",
      "The Shawshank Redemption, The Dark Knight, Pulp Fiction, Goodfellas, Se7en, The Silence of the Lambs, The Usual Suspects, City Lights, The Intouchables, The Departed, Terminator 2, Memento, Sunset Blvd., The Dark Knight Rises, Oldeuboi, Once Upon a Time in America, Reservoir Dogs, M, Requiem for a Dream, Double Indemnity, Bicycle Thieves, For a Few Dollars More, L.A. Confidential, Yojimbo, Batman Begins, Some Like It Hot, The Treasure of the Sierra Madre, Die Hard, Heat, The Third Man, Chinatown, The Secret in Their Eyes, Lock, Stock and Two Smoking Barrels, Dial M for Murder, Gran Torino, No Country for Old Men, Cool Hand Luke, A Wednesday, The Wages of Fear, In the Name of the Father, Rush, Memories of Murder, Mad Max: Fury Road, Butch Cassidy and the Sundance Kid, The Maltese Falcon, Paper Moon, Harry Potter and the Deathly Hallows: Part 2, Touch of Evil, The Terminator, The Bourne Ultimatum, Infernal Affairs, Dog Day Afternoon\n",
      "\n",
      "Cluster 3 words: soldier, german, war, men, kill, armi,\n",
      "Cluster 3 titles (60 movies): \n",
      "The Godfather, The Godfather: Part II, 12 Angry Men, Schindler's List, The Lord of the Rings: The Return of the King, The Good, the Bad and the Ugly, The Lord of the Rings: The Fellowship of the Ring, The Lord of the Rings: The Two Towers, One Flew Over the Cuckoo's Nest, Seven Samurai, Life Is Beautiful, Saving Private Ryan, The Green Mile, Casablanca, Raiders of the Lost Ark, The Pianist, Gladiator, Apocalypse Now, The Great Dictator, Dr. Strangelove or: How I Learned to Stop Worrying and Love the Bomb, Paths of Glory, Django Unchained, Princess Mononoke, Witness for the Prosecution, Das Boot, Braveheart, Lawrence of Arabia, Full Metal Jacket, Dunkirk, Inglourious Basterds, Monty Python and the Holy Grail, Indiana Jones and the Last Crusade, Downfall, The Great Escape, Pan's Labyrinth, Ran, Judgment at Nuremberg, The Bridge on the River Kwai, The Elephant Man, The General, Gone with the Wind, The Deer Hunter, The Thing, Hacksaw Ridge, How to Train Your Dragon, The Passion of Joan of Arc, Life of Brian, Platoon, Hotel Rwanda, Ben-Hur, The Grand Budapest Hotel, Jurassic Park, Thor: Ragnarok, The Grapes of Wrath, Barry Lyndon, Jaws, Twelve Monkeys, The Battle of Algiers, Beauty and the Beast, Pirates of the Caribbean: The Curse of the Black Pearl\n",
      "\n",
      "Cluster 4 words: tell, n't, say, ask, room, man,\n",
      "Cluster 4 titles (75 movies): \n",
      "Fight Club, Inception, The Matrix, It's a Wonderful Life, Léon: The Professional, Spirited Away, American History X, Psycho, Rear Window, Back to the Future, Whiplash, The Prestige, The Lion King, The Lives of Others, The Shining, Blade Runner 2049, Dangal, Citizen Kane, Vertigo, North by Northwest, A Clockwork Orange, Kimi no na wa., Taxi Driver, To Kill a Mockingbird, Toy Story, Toy Story 3, The Sting, Snatch, The Apartment, Rashômon, All About Eve, Up, Unforgiven, Raging Bull, My Neighbor Totoro, The Gold Rush, Inside Out, On the Waterfront, Howl's Moving Castle, Room, The Seventh Seal, Blade Runner, Casino, V for Vendetta, The Wolf of Wall Street, Warrior, Fargo, The Big Lebowski, Finding Nemo, Tokyo Story, Kill Bill: Vol. 1, La La Land, Mary and Max, Gone Girl, Shutter Island, Logan, Stand by Me, 12 Years a Slave, Million Dollar Baby, Spotlight, Stalker, Amores Perros, The Truman Show, The Princess Bride, Prisoners, Rocky, Monsters, Inc., The Wizard of Oz, Groundhog Day, The Best Years of Our Lives, The Help, Paris, Texas, Ah-ga-ssi, Dead Poets Society, Castle in the Sky\n",
      "\n",
      "Cluster 5 words: film, father, relationship, becom, love, wife,\n",
      "Cluster 5 titles (38 movies): \n",
      "Forrest Gump, City of God, Cinema Paradiso, Grave of the Fireflies, American Beauty, Amélie, Taare Zameen Par, Amadeus, Eternal Sunshine of the Spotless Mind, Singin' in the Rain, 3 Idiots, Good Will Hunting, Jagten, A Separation, Children of Heaven, Incendies, Mr. Smith Goes to Washington, A Beautiful Mind, Wild Strawberries, Trainspotting, Sunrise, Andrei Rublev, The Sixth Sense, There Will Be Blood, Rebecca, Rang De Basanti, Into the Wild, It Happened One Night, Network, Persona, Hachi: A Dog's Tale, Before Sunrise, The Nights of Cabiria, Diabolique, Gandhi, Munna Bhai M.B.B.S., Annie Hall, In the Mood for Love\n",
      "\n"
     ]
    }
   ],
   "source": [
    "print \"<Document clustering result by K-means>\"\n",
    "\n",
    "#km.cluster_centers_ denotes the importances of each items in centroid.\n",
    "#We need to sort it in decreasing-order and get the top k items.\n",
    "order_centroids = km.cluster_centers_.argsort()[:, ::-1] \n",
    "\n",
    "Cluster_keywords_summary = {}\n",
    "for i in range(num_clusters):\n",
    "    print \"Cluster \" + str(i) + \" words:\" ,\n",
    "    Cluster_keywords_summary[i] = []\n",
    "    for ind in order_centroids[i, :6]: #replace 6 with n words per cluster\n",
    "        Cluster_keywords_summary[i].append(tf_selected_words[ind])\n",
    "        print tf_selected_words[ind] + ',',\n",
    "#         Cluster_keywords_summary[i].append(vocab_frame_dict[tf_selected_words[ind]])\n",
    "#         print vocab_frame_dict[tf_selected_words[ind]] + \",\",\n",
    "    print\n",
    "    #Here ix means index, which is the clusterID of each item.\n",
    "    #tolist convert <type 'numpy.ndarray'> to list\n",
    "    cluster_movies = frame.ix[i]['title'].values.tolist()\n",
    "    print \"Cluster \" + str(i) + \" titles (\" + str(len(cluster_movies)) + \" movies): \" \n",
    "    print \", \".join(cluster_movies)\n",
    "    print"
   ]
  },
  {
   "cell_type": "code",
   "execution_count": 120,
   "metadata": {},
   "outputs": [],
   "source": [
    "from sklearn import decomposition\n",
    "\n",
    "pca = decomposition.PCA(n_components=2)\n",
    "# tfidf_matrix is a sparse matrix\n",
    "tfidf_matrix_np = tfidf_matrix.toarray()\n",
    "pca.fit(tfidf_matrix_np)\n",
    "X = pca.transform(tfidf_matrix_np)\n",
    "\n",
    "xs, ys = X[:, 0], X[:, 1]\n",
    "\n",
    "#set up colors per clusters using a dict\n",
    "cluster_colors = {0: 'b', 1: 'g', 2: 'r', 3: 'c', 4: 'm', 5: 'y'}\n",
    "#set up cluster names using a dict\n",
    "cluster_names = {}\n",
    "for i in range(num_clusters):\n",
    "    cluster_names[i] = \", \".join(Cluster_keywords_summary[i])"
   ]
  },
  {
   "cell_type": "markdown",
   "metadata": {},
   "source": [
    "## 3. 2. K-means Result Visulization"
   ]
  },
  {
   "cell_type": "code",
   "execution_count": 121,
   "metadata": {},
   "outputs": [
    {
     "data": {
      "image/png": "[encoded data removed]"
     },
     "output_type": "display_data",
     "metadata": {}
    }
   ],
   "source": [
    "#create data frame with PCA cluster results\n",
    "df = pd.DataFrame(dict(x=xs, y=ys, label=clusters, title=titles)) \n",
    "groups = df.groupby(clusters)\n",
    "\n",
    "# set up plot\n",
    "fig, ax = plt.subplots(figsize=(16, 9))\n",
    "#Set color for each cluster/group\n",
    "for name, group in groups:\n",
    "    ax.plot(group.x, group.y, marker='o', linestyle='', ms=12, \n",
    "            label=cluster_names[name], color=cluster_colors[name], \n",
    "            mec='none')\n",
    "ax.set_xlim([-0.21, 0.09])\n",
    "plt.title('k-means clustering result visulization')\n",
    "ax.legend(numpoints=1,loc=1)  #show legend with only 1 point, position is right bottom.\n",
    "plt.show() #show the plot"
   ]
  },
  {
   "cell_type": "code",
   "execution_count": 122,
   "metadata": {},
   "outputs": [],
   "source": [
    "plt.close()"
   ]
  },
  {
   "cell_type": "markdown",
   "metadata": {},
   "source": [
    "# Part 4: Topic Modeling - Latent Dirichlet Allocation"
   ]
  },
  {
   "cell_type": "code",
   "execution_count": 123,
   "metadata": {},
   "outputs": [
    {
     "name": "stderr",
     "output_type": "stream",
     "text": [
      "INFO:lda:n_documents: 250\n",
      "INFO:lda:vocab_size: 1115\n",
      "INFO:lda:n_words: 139264\n",
      "INFO:lda:n_topics: 6\n",
      "INFO:lda:n_iter: 500\n",
      "INFO:lda:<0> log likelihood: -1209640\n",
      "INFO:lda:<10> log likelihood: -1081516\n",
      "INFO:lda:<20> log likelihood: -1034875\n",
      "INFO:lda:<30> log likelihood: -1017359\n",
      "INFO:lda:<40> log likelihood: -1009519\n",
      "INFO:lda:<50> log likelihood: -1005158\n",
      "INFO:lda:<60> log likelihood: -1001576\n",
      "INFO:lda:<70> log likelihood: -999686\n",
      "INFO:lda:<80> log likelihood: -996927\n",
      "INFO:lda:<90> log likelihood: -994175\n",
      "INFO:lda:<100> log likelihood: -993717\n",
      "INFO:lda:<110> log likelihood: -991968\n",
      "INFO:lda:<120> log likelihood: -991865\n",
      "INFO:lda:<130> log likelihood: -990197\n",
      "INFO:lda:<140> log likelihood: -989142\n",
      "INFO:lda:<150> log likelihood: -988005\n",
      "INFO:lda:<160> log likelihood: -987601\n",
      "INFO:lda:<170> log likelihood: -987018\n",
      "INFO:lda:<180> log likelihood: -984753\n",
      "INFO:lda:<190> log likelihood: -984904\n",
      "INFO:lda:<200> log likelihood: -983619\n",
      "INFO:lda:<210> log likelihood: -982993\n",
      "INFO:lda:<220> log likelihood: -982316\n",
      "INFO:lda:<230> log likelihood: -982356\n",
      "INFO:lda:<240> log likelihood: -981366\n",
      "INFO:lda:<250> log likelihood: -981291\n",
      "INFO:lda:<260> log likelihood: -981380\n",
      "INFO:lda:<270> log likelihood: -980679\n",
      "INFO:lda:<280> log likelihood: -980400\n",
      "INFO:lda:<290> log likelihood: -980534\n",
      "INFO:lda:<300> log likelihood: -981315\n",
      "INFO:lda:<310> log likelihood: -981480\n",
      "INFO:lda:<320> log likelihood: -980839\n",
      "INFO:lda:<330> log likelihood: -981123\n",
      "INFO:lda:<340> log likelihood: -981121\n",
      "INFO:lda:<350> log likelihood: -981090\n",
      "INFO:lda:<360> log likelihood: -981207\n",
      "INFO:lda:<370> log likelihood: -981160\n",
      "INFO:lda:<380> log likelihood: -981103\n",
      "INFO:lda:<390> log likelihood: -981834\n",
      "INFO:lda:<400> log likelihood: -980980\n",
      "INFO:lda:<410> log likelihood: -980430\n",
      "INFO:lda:<420> log likelihood: -979759\n",
      "INFO:lda:<430> log likelihood: -980072\n",
      "INFO:lda:<440> log likelihood: -979616\n",
      "INFO:lda:<450> log likelihood: -979649\n",
      "INFO:lda:<460> log likelihood: -978928\n",
      "INFO:lda:<470> log likelihood: -978983\n",
      "INFO:lda:<480> log likelihood: -978924\n",
      "INFO:lda:<490> log likelihood: -978416\n",
      "INFO:lda:<499> log likelihood: -978101\n"
     ]
    }
   ],
   "source": [
    "import lda\n",
    "\n",
    "#Now we use synopses to build a 100*551 matrix (terms)\n",
    "terms_dict = {tf_selected_words[x]:x for x in range(len(tf_selected_words))}\n",
    "\n",
    "feature_matrix_synopses_tf = []\n",
    "for i in synopses:\n",
    "    current_doc_stats = [0] * len(tf_selected_words)\n",
    "    allwords_stemmed = tokenization_and_stemming(i.decode('utf-8'))\n",
    "    for get_terms in allwords_stemmed:\n",
    "        if get_terms in tf_selected_words:\n",
    "            current_doc_stats[terms_dict[get_terms]] += 1\n",
    "    current_doc_stats = np.asarray(current_doc_stats)\n",
    "    feature_matrix_synopses_tf.append(current_doc_stats)\n",
    "    \n",
    "feature_matrix_synopses_tf = np.asarray(feature_matrix_synopses_tf)\n",
    "\n",
    "model = lda.LDA(n_topics=6, n_iter=500, random_state=1)\n",
    "\n",
    "model.fit(feature_matrix_synopses_tf)\n",
    "topic_word = model.topic_word_  # model.components_ also works\n",
    "n_top_words = 7\n",
    "\n",
    "topic_keywords_list = []\n",
    "for i, topic_dist in enumerate(topic_word):\n",
    "    #Here we select top(n_top_words-1)\n",
    "    lda_topic_words = np.array(tf_selected_words)[np.argsort(topic_dist)][:-n_top_words:-1] \n",
    "    for j in range(len(lda_topic_words)):\n",
    "        lda_topic_words[j] = vocab_frame_dict[lda_topic_words[j]]\n",
    "    topic_keywords_list.append(lda_topic_words.tolist())"
   ]
  },
  {
   "cell_type": "markdown",
   "metadata": {},
   "source": [
    "## 4.1. Analyze LDA Topic Modeling Result"
   ]
  },
  {
   "cell_type": "code",
   "execution_count": 124,
   "metadata": {},
   "outputs": [
    {
     "name": "stdout",
     "output_type": "stream",
     "text": [
      "<Document clustering result by LDA>\n",
      "Cluster 0 words: tells, n't, says, asks, coming, looks\n",
      "Cluster 0 titles (118 movies): \n",
      "The Shawshank Redemption, The Dark Knight, Pulp Fiction, Inception, The Matrix, It's a Wonderful Life, Léon: The Professional, Spirited Away, American History X, Once Upon a Time in the West, Interstellar, The Green Mile, Psycho, City Lights, Rear Window, Back to the Future, Whiplash, The Prestige, The Lion King, The Lives of Others, Paths of Glory, Django Unchained, The Shining, Blade Runner 2049, American Beauty, Princess Mononoke, Oldeuboi, Das Boot, Citizen Kane, Vertigo, North by Northwest, Requiem for a Dream, Taare Zameen Par, A Clockwork Orange, Kimi no na wa., Double Indemnity, To Kill a Mockingbird, 2001: A Space Odyssey, Singin' in the Rain, Toy Story, Toy Story 3, The Sting, Snatch, Monty Python and the Holy Grail, For a Few Dollars More, A Separation, Rashômon, All About Eve, Yojimbo, Up, Batman Begins, Some Like It Hot, The Treasure of the Sierra Madre, Unforgiven, The Third Man, Pan's Labyrinth, My Neighbor Totoro, The Gold Rush, Judgment at Nuremberg, On the Waterfront, Howl's Moving Castle, Room, The Seventh Seal, Blade Runner, Casino, Wild Strawberries, V for Vendetta, The Wolf of Wall Street, Warrior, Dial M for Murder, Sunrise, Gone with the Wind, Andrei Rublev, The Deer Hunter, Fargo, The Sixth Sense, The Thing, No Country for Old Men, The Big Lebowski, Finding Nemo, Cool Hand Luke, Hacksaw Ridge, Kill Bill: Vol. 1, La La Land, The Passion of Joan of Arc, Gone Girl, Shutter Island, Logan, Life of Brian, The Wages of Fear, Rush, Stand by Me, Persona, Ben-Hur, The Grand Budapest Hotel, 12 Years a Slave, Mad Max: Fury Road, Million Dollar Baby, Spotlight, Stalker, Amores Perros, The Truman Show, The Princess Bride, The Nights of Cabiria, Paper Moon, Prisoners, Rocky, Diabolique, Gandhi, Monsters, Inc., The Wizard of Oz, Groundhog Day, The Help, Paris, Texas, In the Mood for Love, Beauty and the Beast, Ah-ga-ssi, Castle in the Sky\n",
      "\n",
      "Cluster 1 words: used, ship, harry, fight, return, escape\n",
      "Cluster 1 titles (26 movies): \n",
      "The Lord of the Rings: The Return of the King, The Good, the Bad and the Ugly, The Lord of the Rings: The Fellowship of the Ring, Star Wars: Episode V - The Empire Strikes Back, The Lord of the Rings: The Two Towers, Star Wars: Episode IV - A New Hope, Raiders of the Lost Ark, Alien, WALL·E, The Dark Knight Rises, Aliens, Star Wars: Episode VI - Return of the Jedi, Metropolis, Indiana Jones and the Last Crusade, Ran, Inside Out, The General, How to Train Your Dragon, Jurassic Park, Thor: Ragnarok, Harry Potter and the Deathly Hallows: Part 2, Star Wars: The Force Awakens, The Terminator, Jaws, Twelve Monkeys, Pirates of the Caribbean: The Curse of the Black Pearl\n",
      "\n",
      "Cluster 2 words: men, kill, soldiers, ordering, war, prison\n",
      "Cluster 2 titles (15 movies): \n",
      "Seven Samurai, Saving Private Ryan, Apocalypse Now, The Great Dictator, Dr. Strangelove or: How I Learned to Stop Worrying and Love the Bomb, Lawrence of Arabia, Full Metal Jacket, Dunkirk, Inglourious Basterds, Downfall, The Great Escape, The Bridge on the River Kwai, Platoon, Hotel Rwanda, The Battle of Algiers\n",
      "\n",
      "Cluster 3 words: car, john, truck, drives, jack, george\n",
      "Cluster 3 titles (4 movies): \n",
      "Terminator 2, Die Hard, Heat, Dog Day Afternoon\n",
      "\n",
      "Cluster 4 words: father, day, friend, return, new, later\n",
      "Cluster 4 titles (64 movies): \n",
      "Schindler's List, Fight Club, Forrest Gump, One Flew Over the Cuckoo's Nest, Goodfellas, City of God, Life Is Beautiful, Casablanca, The Intouchables, Modern Times, The Pianist, Gladiator, Sunset Blvd., Cinema Paradiso, Grave of the Fireflies, Once Upon a Time in America, Dangal, Braveheart, Amélie, Amadeus, Eternal Sunshine of the Spotless Mind, Taxi Driver, 3 Idiots, Bicycle Thieves, The Kid, Good Will Hunting, Jagten, Scarface, Babam ve Oglum, Raging Bull, Children of Heaven, Ikiru, Incendies, Lock, Stock and Two Smoking Barrels, Mr. Smith Goes to Washington, A Beautiful Mind, Trainspotting, Gran Torino, The Bandit, Tokyo Story, There Will Be Blood, Come and See, Rang De Basanti, Mary and Max, Into the Wild, It Happened One Night, Relatos salvajes, Network, In the Name of the Father, The 400 Blows, Butch Cassidy and the Sundance Kid, Hachi: A Dog's Tale, Nausicaä of the Valley of the Wind, Before Sunrise, The Grapes of Wrath, Catch Me If You Can, Donnie Darko, Munna Bhai M.B.B.S., Annie Hall, Barry Lyndon, La Haine, 8½, The Best Years of Our Lives, Dead Poets Society\n",
      "\n",
      "Cluster 5 words: man, kill, meeting, tells, men, police\n",
      "Cluster 5 titles (23 movies): \n",
      "The Godfather, The Godfather: Part II, 12 Angry Men, Se7en, The Silence of the Lambs, The Usual Suspects, The Departed, Memento, Witness for the Prosecution, Reservoir Dogs, M, L.A. Confidential, The Apartment, Chinatown, The Secret in Their Eyes, The Elephant Man, Rebecca, A Wednesday, Memories of Murder, The Maltese Falcon, Touch of Evil, The Bourne Ultimatum, Infernal Affairs\n",
      "\n"
     ]
    }
   ],
   "source": [
    "doc_topic = model.doc_topic_\n",
    "topic_doc_dict = {}\n",
    "\n",
    "ida_clusters = []\n",
    "print \"<Document clustering result by LDA>\"\n",
    "for i in range(len(doc_topic)):\n",
    "    topicID = doc_topic[i].argmax()\n",
    "    ida_clusters.append(topicID)\n",
    "    if topicID not in topic_doc_dict:\n",
    "        topic_doc_dict[topicID] = [titles[i]]\n",
    "    else:\n",
    "        topic_doc_dict[topicID].append(titles[i])\n",
    "for i in topic_doc_dict:\n",
    "    print \"Cluster \" + str(i) + \" words: \" + \", \".join(topic_keywords_list[i])\n",
    "    print \"Cluster \" + str(i) + \" titles (\" + str(len(topic_doc_dict[i])) + \" movies): \" \n",
    "    print ', '.join(topic_doc_dict[i])\n",
    "    print"
   ]
  },
  {
   "cell_type": "markdown",
   "metadata": {},
   "source": [
    "## 4.2. LDA Result Visulization"
   ]
  },
  {
   "cell_type": "code",
   "execution_count": 125,
   "metadata": {},
   "outputs": [
    {
     "data": {
      "image/png": "[encoded data removed]"
     },
     "output_type": "display_data",
     "metadata": {}
    }
   ],
   "source": [
    "#create data frame with PCA cluster results\n",
    "ida_df = pd.DataFrame(dict(x=xs, y=ys, label=ida_clusters, title=titles)) \n",
    "ida_groups = ida_df.groupby(ida_clusters)\n",
    "\n",
    "# set up plot\n",
    "fig, ax = plt.subplots(figsize=(16, 9))\n",
    "#Set color for each cluster/group\n",
    "for name, group in ida_groups:\n",
    "    ax.plot(group.x, group.y, marker='o', linestyle='', ms=12, \n",
    "            label=cluster_names[name], color=cluster_colors[name], \n",
    "            mec='none')\n",
    "\n",
    "ax.set_xlim([-0.21, 0.09])\n",
    "ax.legend(numpoints=1,loc=1)  #show legend with only 1 point, position is right bottom.\n",
    "plt.title('ida clustering result visulization')\n",
    "\n",
    "plt.show() #show the plot"
   ]
  },
  {
   "cell_type": "code",
   "execution_count": 126,
   "metadata": {},
   "outputs": [],
   "source": [
    "plt.close()"
   ]
  }
 ],
 "metadata": {
  "kernelspec": {
   "display_name": "Python 2",
   "language": "python",
   "name": "python2"
  },
  "language_info": {
   "codemirror_mode": {
    "name": "ipython",
    "version": 2.0
   },
   "file_extension": ".py",
   "mimetype": "text/x-python",
   "name": "python",
   "nbconvert_exporter": "python",
   "pygments_lexer": "ipython2",
   "version": "2.7.13"
  }
 },
 "nbformat": 4,
 "nbformat_minor": 2
}